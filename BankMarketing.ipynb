{
 "cells": [
  {
   "cell_type": "markdown",
   "id": "b377d250",
   "metadata": {},
   "source": [
    "# Proyecto Bank Marketing"
   ]
  },
  {
   "cell_type": "code",
   "execution_count": null,
   "id": "e0f5885d",
   "metadata": {},
   "outputs": [],
   "source": [
    "import pandas as pd\n",
    "import matplotlib.pyplot as plt\n",
    "import seaborn as sns\n",
    "from sklearn.model_selection import train_test_split\n",
    "from sklearn.preprocessing import StandardScaler\n",
    "from sklearn.neighbors import KNeighborsClassifier\n",
    "from sklearn.tree import DecisionTreeClassifier\n",
    "import statsmodels as sm\n",
    "from sklearn.naive_bayes import GaussianNB\n",
    "from sklearn.ensemble import RandomForestClassifier\n",
    "from sklearn.linear_model import LogisticRegression\n",
    "from sklearn import metrics\n",
    "from sklearn.metrics import classification_report,roc_auc_score,roc_curve,auc"
   ]
  },
  {
   "cell_type": "markdown",
   "id": "829b86de",
   "metadata": {},
   "source": [
    "# Exploración inicial y limpieza de datos"
   ]
  },
  {
   "cell_type": "code",
   "execution_count": 2,
   "id": "31a6e706",
   "metadata": {},
   "outputs": [],
   "source": [
    "# Se carga el DataFrame con pandas en Datos_crudos. Se realiza tambien una copia de este DataFrame en Datos, para poder\n",
    "# Manipularlo teniendo de backup Datos_crudos:\n",
    "\n",
    "Datos_crudos = pd.read_excel('bank-additional-full2.xlsx')\n",
    "Datos = Datos_crudos.copy()"
   ]
  },
  {
   "cell_type": "code",
   "execution_count": 3,
   "id": "074d4b76",
   "metadata": {},
   "outputs": [
    {
     "data": {
      "text/plain": [
       "(41188, 21)"
      ]
     },
     "execution_count": 3,
     "metadata": {},
     "output_type": "execute_result"
    }
   ],
   "source": [
    "# Veo cantidad de filas y columnas:\n",
    "\n",
    "Datos.shape"
   ]
  },
  {
   "cell_type": "code",
   "execution_count": 4,
   "id": "0cda16f4",
   "metadata": {},
   "outputs": [
    {
     "data": {
      "text/html": [
       "<div>\n",
       "<style scoped>\n",
       "    .dataframe tbody tr th:only-of-type {\n",
       "        vertical-align: middle;\n",
       "    }\n",
       "\n",
       "    .dataframe tbody tr th {\n",
       "        vertical-align: top;\n",
       "    }\n",
       "\n",
       "    .dataframe thead th {\n",
       "        text-align: right;\n",
       "    }\n",
       "</style>\n",
       "<table border=\"1\" class=\"dataframe\">\n",
       "  <thead>\n",
       "    <tr style=\"text-align: right;\">\n",
       "      <th></th>\n",
       "      <th>age</th>\n",
       "      <th>job</th>\n",
       "      <th>marital</th>\n",
       "      <th>education</th>\n",
       "      <th>default</th>\n",
       "      <th>housing</th>\n",
       "      <th>loan</th>\n",
       "      <th>contact</th>\n",
       "      <th>month</th>\n",
       "      <th>day_of_week</th>\n",
       "      <th>duration</th>\n",
       "      <th>campaign</th>\n",
       "      <th>pdays</th>\n",
       "      <th>previous</th>\n",
       "      <th>poutcome</th>\n",
       "      <th>emp.var.rate</th>\n",
       "      <th>cons.price.idx</th>\n",
       "      <th>cons.conf.idx</th>\n",
       "      <th>euribor3m</th>\n",
       "      <th>nr.employed</th>\n",
       "      <th>y</th>\n",
       "    </tr>\n",
       "  </thead>\n",
       "  <tbody>\n",
       "    <tr>\n",
       "      <th>0</th>\n",
       "      <td>56</td>\n",
       "      <td>housemaid</td>\n",
       "      <td>married</td>\n",
       "      <td>basic.4y</td>\n",
       "      <td>no</td>\n",
       "      <td>no</td>\n",
       "      <td>no</td>\n",
       "      <td>telephone</td>\n",
       "      <td>may</td>\n",
       "      <td>mon</td>\n",
       "      <td>261</td>\n",
       "      <td>1</td>\n",
       "      <td>999</td>\n",
       "      <td>0</td>\n",
       "      <td>nonexistent</td>\n",
       "      <td>1.1</td>\n",
       "      <td>93994.0</td>\n",
       "      <td>-36.4</td>\n",
       "      <td>4857.0</td>\n",
       "      <td>5191.0</td>\n",
       "      <td>no</td>\n",
       "    </tr>\n",
       "    <tr>\n",
       "      <th>1</th>\n",
       "      <td>57</td>\n",
       "      <td>services</td>\n",
       "      <td>married</td>\n",
       "      <td>high.school</td>\n",
       "      <td>unknown</td>\n",
       "      <td>no</td>\n",
       "      <td>no</td>\n",
       "      <td>telephone</td>\n",
       "      <td>may</td>\n",
       "      <td>mon</td>\n",
       "      <td>149</td>\n",
       "      <td>1</td>\n",
       "      <td>999</td>\n",
       "      <td>0</td>\n",
       "      <td>nonexistent</td>\n",
       "      <td>1.1</td>\n",
       "      <td>93994.0</td>\n",
       "      <td>-36.4</td>\n",
       "      <td>4857.0</td>\n",
       "      <td>5191.0</td>\n",
       "      <td>no</td>\n",
       "    </tr>\n",
       "    <tr>\n",
       "      <th>2</th>\n",
       "      <td>37</td>\n",
       "      <td>services</td>\n",
       "      <td>married</td>\n",
       "      <td>high.school</td>\n",
       "      <td>no</td>\n",
       "      <td>yes</td>\n",
       "      <td>no</td>\n",
       "      <td>telephone</td>\n",
       "      <td>may</td>\n",
       "      <td>mon</td>\n",
       "      <td>226</td>\n",
       "      <td>1</td>\n",
       "      <td>999</td>\n",
       "      <td>0</td>\n",
       "      <td>nonexistent</td>\n",
       "      <td>1.1</td>\n",
       "      <td>93994.0</td>\n",
       "      <td>-36.4</td>\n",
       "      <td>4857.0</td>\n",
       "      <td>5191.0</td>\n",
       "      <td>no</td>\n",
       "    </tr>\n",
       "    <tr>\n",
       "      <th>3</th>\n",
       "      <td>40</td>\n",
       "      <td>admin.</td>\n",
       "      <td>married</td>\n",
       "      <td>basic.6y</td>\n",
       "      <td>no</td>\n",
       "      <td>no</td>\n",
       "      <td>no</td>\n",
       "      <td>telephone</td>\n",
       "      <td>may</td>\n",
       "      <td>mon</td>\n",
       "      <td>151</td>\n",
       "      <td>1</td>\n",
       "      <td>999</td>\n",
       "      <td>0</td>\n",
       "      <td>nonexistent</td>\n",
       "      <td>1.1</td>\n",
       "      <td>93994.0</td>\n",
       "      <td>-36.4</td>\n",
       "      <td>4857.0</td>\n",
       "      <td>5191.0</td>\n",
       "      <td>no</td>\n",
       "    </tr>\n",
       "    <tr>\n",
       "      <th>4</th>\n",
       "      <td>56</td>\n",
       "      <td>services</td>\n",
       "      <td>married</td>\n",
       "      <td>high.school</td>\n",
       "      <td>no</td>\n",
       "      <td>no</td>\n",
       "      <td>yes</td>\n",
       "      <td>telephone</td>\n",
       "      <td>may</td>\n",
       "      <td>mon</td>\n",
       "      <td>307</td>\n",
       "      <td>1</td>\n",
       "      <td>999</td>\n",
       "      <td>0</td>\n",
       "      <td>nonexistent</td>\n",
       "      <td>1.1</td>\n",
       "      <td>93994.0</td>\n",
       "      <td>-36.4</td>\n",
       "      <td>4857.0</td>\n",
       "      <td>5191.0</td>\n",
       "      <td>no</td>\n",
       "    </tr>\n",
       "  </tbody>\n",
       "</table>\n",
       "</div>"
      ],
      "text/plain": [
       "   age        job  marital    education  default housing loan    contact  \\\n",
       "0   56  housemaid  married     basic.4y       no      no   no  telephone   \n",
       "1   57   services  married  high.school  unknown      no   no  telephone   \n",
       "2   37   services  married  high.school       no     yes   no  telephone   \n",
       "3   40     admin.  married     basic.6y       no      no   no  telephone   \n",
       "4   56   services  married  high.school       no      no  yes  telephone   \n",
       "\n",
       "  month day_of_week  duration  campaign  pdays  previous     poutcome  \\\n",
       "0   may         mon       261         1    999         0  nonexistent   \n",
       "1   may         mon       149         1    999         0  nonexistent   \n",
       "2   may         mon       226         1    999         0  nonexistent   \n",
       "3   may         mon       151         1    999         0  nonexistent   \n",
       "4   may         mon       307         1    999         0  nonexistent   \n",
       "\n",
       "   emp.var.rate  cons.price.idx  cons.conf.idx  euribor3m  nr.employed   y  \n",
       "0           1.1         93994.0          -36.4     4857.0       5191.0  no  \n",
       "1           1.1         93994.0          -36.4     4857.0       5191.0  no  \n",
       "2           1.1         93994.0          -36.4     4857.0       5191.0  no  \n",
       "3           1.1         93994.0          -36.4     4857.0       5191.0  no  \n",
       "4           1.1         93994.0          -36.4     4857.0       5191.0  no  "
      ]
     },
     "execution_count": 4,
     "metadata": {},
     "output_type": "execute_result"
    }
   ],
   "source": [
    "# Veo inicialmente que columnas tenemos y si se cargo bien el Dataset. Tambien expando el numero de columnas que puede\n",
    "# mostrar pandas para ver todas. De otra manera no podria visualizar las 21:\n",
    "pd.set_option('display.max_columns', 500)\n",
    "Datos.head()"
   ]
  },
  {
   "cell_type": "code",
   "execution_count": 5,
   "id": "dd2a196c",
   "metadata": {},
   "outputs": [
    {
     "data": {
      "text/plain": [
       "age                 int64\n",
       "job                object\n",
       "marital            object\n",
       "education          object\n",
       "default            object\n",
       "housing            object\n",
       "loan               object\n",
       "contact            object\n",
       "month              object\n",
       "day_of_week        object\n",
       "duration            int64\n",
       "campaign            int64\n",
       "pdays               int64\n",
       "previous            int64\n",
       "poutcome           object\n",
       "emp.var.rate      float64\n",
       "cons.price.idx    float64\n",
       "cons.conf.idx     float64\n",
       "euribor3m         float64\n",
       "nr.employed       float64\n",
       "y                  object\n",
       "dtype: object"
      ]
     },
     "execution_count": 5,
     "metadata": {},
     "output_type": "execute_result"
    }
   ],
   "source": [
    "# Veo que tipo de datos tiene el DataSet:\n",
    "\n",
    "Datos.dtypes"
   ]
  },
  {
   "cell_type": "code",
   "execution_count": 6,
   "id": "3e634f03",
   "metadata": {},
   "outputs": [],
   "source": [
    "# Voy a eliminar la columna 'duration', ya que el texto provisto indica que no es un valor que se tenga que tener en\n",
    "# cuenta en el modelo, ya que luego de la llamada ya se sabe si la persona acepto o no el deposito. Es por esto que este\n",
    "# valor no proporciona ninguna información relevante:\n",
    "\n",
    "Datos = Datos.drop(columns = 'duration', axis = 1)"
   ]
  },
  {
   "cell_type": "code",
   "execution_count": 7,
   "id": "55601eef",
   "metadata": {},
   "outputs": [
    {
     "data": {
      "text/plain": [
       "age               0\n",
       "job               0\n",
       "marital           0\n",
       "education         0\n",
       "default           0\n",
       "housing           0\n",
       "loan              0\n",
       "contact           0\n",
       "month             0\n",
       "day_of_week       0\n",
       "campaign          0\n",
       "pdays             0\n",
       "previous          0\n",
       "poutcome          0\n",
       "emp.var.rate      0\n",
       "cons.price.idx    0\n",
       "cons.conf.idx     0\n",
       "euribor3m         0\n",
       "nr.employed       0\n",
       "y                 0\n",
       "dtype: int64"
      ]
     },
     "execution_count": 7,
     "metadata": {},
     "output_type": "execute_result"
    }
   ],
   "source": [
    "# Voy a revisar si encuentro valores nulos, aunque ya en el texto aclaran que todos los nulos fueros reemplazados por\n",
    "# 'Unknown'\n",
    "\n",
    "Datos.isnull().sum()"
   ]
  },
  {
   "cell_type": "markdown",
   "id": "1810de2f",
   "metadata": {},
   "source": [
    "Efectivamente no hay nulos. No voy a eliminar ni a reemplazar los 'unknown' ya que puede resultar interesante tomarlos\n",
    "como una categoria. Entiendo que podria estar perdiendo información valiosa si simplemente los descarto."
   ]
  },
  {
   "cell_type": "markdown",
   "id": "517f8a7f",
   "metadata": {},
   "source": [
    "# Analisis escrito de los datos observados, utilizando la descripcion de cada columna provista junto con el ejercicio:"
   ]
  },
  {
   "cell_type": "markdown",
   "id": "6660445b",
   "metadata": {},
   "source": [
    "A priori no parece haber ninguna transformación necesaria. Estaba buscando básicamente si había algún valor numérico\n",
    "con dtype object (string).\n",
    "Resulta interesante poder relacionar algunos de los datos característicos de las personas, como \n",
    "edad, sexo, empleo, estado civil, educación, si tienen prestamos asignados y en qué momento se\n",
    "realizo la llamada para ver si estas variables pueden ser útiles para predecir si la persona va a\n",
    "tomar el depósito o no.\n",
    "\n",
    "Por otro lado tenemos las siguientes variables:\n",
    "\n",
    "Employment variation rate: Es una medida de la variación del empleo que se mide\n",
    "cada cuarto y está asociada directamente al momento del año en el que se realizó el contacto con la persona. \n",
    "Sería interesante ver si existe correlación entre este valor y la decisión de tomar o no el depósito, \n",
    "ya que sería de esperar que al existir un cambio negativo en la tasa de empleo, la persona sea mas conservadora con los \n",
    "prestamos que toma.\n",
    "\n",
    "consumer price index: Es una medida de los precios de bienes y servicios en un rango de tiempo, en este caso medido\n",
    "mensualmente. También resulta interesante medir su correlación con la decisión de la toma del \n",
    "deposito, ya que es una medida de la salud financiera general de la población. Si el precio de\n",
    "bienes y servicios es elevado, seria de esperar que las personas sean conservadoras con los\n",
    "prestamos que toman.\n",
    "\n",
    "Consumer confidence index: Es una medida de cuanto la población esta gastando. Mientras mayor sea\n",
    "esperaría que mayor sea la probabilidad de que se tome el deposito.\n",
    "\n",
    "euribor 3 month rate: Índice que indica la tasa de interés de préstamos que están dispuestos\n",
    "a dar los bancos, medido diariamente.\n",
    "\n",
    "number of employees: Indicador de la cantidad de personas empleadas, tendría que aportar\n",
    "información similar a Employment variation rate."
   ]
  },
  {
   "cell_type": "markdown",
   "id": "e24d591d",
   "metadata": {},
   "source": [
    "# Analisis descriptivo de los datos:"
   ]
  },
  {
   "cell_type": "code",
   "execution_count": 8,
   "id": "a8f2ebab",
   "metadata": {},
   "outputs": [
    {
     "data": {
      "text/html": [
       "<div>\n",
       "<style scoped>\n",
       "    .dataframe tbody tr th:only-of-type {\n",
       "        vertical-align: middle;\n",
       "    }\n",
       "\n",
       "    .dataframe tbody tr th {\n",
       "        vertical-align: top;\n",
       "    }\n",
       "\n",
       "    .dataframe thead th {\n",
       "        text-align: right;\n",
       "    }\n",
       "</style>\n",
       "<table border=\"1\" class=\"dataframe\">\n",
       "  <thead>\n",
       "    <tr style=\"text-align: right;\">\n",
       "      <th></th>\n",
       "      <th>age</th>\n",
       "      <th>campaign</th>\n",
       "      <th>pdays</th>\n",
       "      <th>previous</th>\n",
       "      <th>emp.var.rate</th>\n",
       "      <th>cons.price.idx</th>\n",
       "      <th>cons.conf.idx</th>\n",
       "      <th>euribor3m</th>\n",
       "      <th>nr.employed</th>\n",
       "    </tr>\n",
       "  </thead>\n",
       "  <tbody>\n",
       "    <tr>\n",
       "      <th>count</th>\n",
       "      <td>41188.00000</td>\n",
       "      <td>41188.000000</td>\n",
       "      <td>41188.000000</td>\n",
       "      <td>41188.000000</td>\n",
       "      <td>41188.000000</td>\n",
       "      <td>41188.000000</td>\n",
       "      <td>41188.000000</td>\n",
       "      <td>41188.000000</td>\n",
       "      <td>41188.000000</td>\n",
       "    </tr>\n",
       "    <tr>\n",
       "      <th>mean</th>\n",
       "      <td>40.02406</td>\n",
       "      <td>2.567593</td>\n",
       "      <td>962.475454</td>\n",
       "      <td>0.172963</td>\n",
       "      <td>0.081886</td>\n",
       "      <td>85401.579955</td>\n",
       "      <td>-40.502600</td>\n",
       "      <td>3180.107207</td>\n",
       "      <td>5167.035911</td>\n",
       "    </tr>\n",
       "    <tr>\n",
       "      <th>std</th>\n",
       "      <td>10.42125</td>\n",
       "      <td>2.770014</td>\n",
       "      <td>186.910907</td>\n",
       "      <td>0.494901</td>\n",
       "      <td>1.570960</td>\n",
       "      <td>26471.506796</td>\n",
       "      <td>4.628198</td>\n",
       "      <td>2086.690436</td>\n",
       "      <td>72.251528</td>\n",
       "    </tr>\n",
       "    <tr>\n",
       "      <th>min</th>\n",
       "      <td>17.00000</td>\n",
       "      <td>1.000000</td>\n",
       "      <td>0.000000</td>\n",
       "      <td>0.000000</td>\n",
       "      <td>-3.400000</td>\n",
       "      <td>93.200000</td>\n",
       "      <td>-50.800000</td>\n",
       "      <td>0.634000</td>\n",
       "      <td>4963.600000</td>\n",
       "    </tr>\n",
       "    <tr>\n",
       "      <th>25%</th>\n",
       "      <td>32.00000</td>\n",
       "      <td>1.000000</td>\n",
       "      <td>999.000000</td>\n",
       "      <td>0.000000</td>\n",
       "      <td>-1.800000</td>\n",
       "      <td>92893.000000</td>\n",
       "      <td>-42.700000</td>\n",
       "      <td>1281.000000</td>\n",
       "      <td>5099.100000</td>\n",
       "    </tr>\n",
       "    <tr>\n",
       "      <th>50%</th>\n",
       "      <td>38.00000</td>\n",
       "      <td>2.000000</td>\n",
       "      <td>999.000000</td>\n",
       "      <td>0.000000</td>\n",
       "      <td>1.100000</td>\n",
       "      <td>93749.000000</td>\n",
       "      <td>-41.800000</td>\n",
       "      <td>4856.000000</td>\n",
       "      <td>5191.000000</td>\n",
       "    </tr>\n",
       "    <tr>\n",
       "      <th>75%</th>\n",
       "      <td>47.00000</td>\n",
       "      <td>3.000000</td>\n",
       "      <td>999.000000</td>\n",
       "      <td>0.000000</td>\n",
       "      <td>1.400000</td>\n",
       "      <td>93994.000000</td>\n",
       "      <td>-36.400000</td>\n",
       "      <td>4961.000000</td>\n",
       "      <td>5228.100000</td>\n",
       "    </tr>\n",
       "    <tr>\n",
       "      <th>max</th>\n",
       "      <td>98.00000</td>\n",
       "      <td>56.000000</td>\n",
       "      <td>999.000000</td>\n",
       "      <td>7.000000</td>\n",
       "      <td>1.400000</td>\n",
       "      <td>94767.000000</td>\n",
       "      <td>-26.900000</td>\n",
       "      <td>5045.000000</td>\n",
       "      <td>5228.100000</td>\n",
       "    </tr>\n",
       "  </tbody>\n",
       "</table>\n",
       "</div>"
      ],
      "text/plain": [
       "               age      campaign         pdays      previous  emp.var.rate  \\\n",
       "count  41188.00000  41188.000000  41188.000000  41188.000000  41188.000000   \n",
       "mean      40.02406      2.567593    962.475454      0.172963      0.081886   \n",
       "std       10.42125      2.770014    186.910907      0.494901      1.570960   \n",
       "min       17.00000      1.000000      0.000000      0.000000     -3.400000   \n",
       "25%       32.00000      1.000000    999.000000      0.000000     -1.800000   \n",
       "50%       38.00000      2.000000    999.000000      0.000000      1.100000   \n",
       "75%       47.00000      3.000000    999.000000      0.000000      1.400000   \n",
       "max       98.00000     56.000000    999.000000      7.000000      1.400000   \n",
       "\n",
       "       cons.price.idx  cons.conf.idx     euribor3m   nr.employed  \n",
       "count    41188.000000   41188.000000  41188.000000  41188.000000  \n",
       "mean     85401.579955     -40.502600   3180.107207   5167.035911  \n",
       "std      26471.506796       4.628198   2086.690436     72.251528  \n",
       "min         93.200000     -50.800000      0.634000   4963.600000  \n",
       "25%      92893.000000     -42.700000   1281.000000   5099.100000  \n",
       "50%      93749.000000     -41.800000   4856.000000   5191.000000  \n",
       "75%      93994.000000     -36.400000   4961.000000   5228.100000  \n",
       "max      94767.000000     -26.900000   5045.000000   5228.100000  "
      ]
     },
     "execution_count": 8,
     "metadata": {},
     "output_type": "execute_result"
    }
   ],
   "source": [
    "# Voy a ver algunos valores estadisticos para ver si hay alguna información útil que salte a la vista:\n",
    "\n",
    "Datos.describe()"
   ]
  },
  {
   "cell_type": "markdown",
   "id": "cc922269",
   "metadata": {},
   "source": [
    "No tiene mucho sentido ver los valores de pdays ya que el 999 simboliza que no se contacto al cliente previamente.\n",
    "emp.var.rate presenta una diferencia de alrededor de 8% entre su mediana y el cuartil 50%. Esto podria indicar la\n",
    "existencia de outliers o una distribución no gaussiana. Lo mismo sucede con cons.price.idx y euribor3m, y lo interesante\n",
    "es que todos tienen una mediana menor que el cuartil 50%. Siendo los 3 parametros indicadores de salud financiera, \n",
    "podrian tener relación entre si."
   ]
  },
  {
   "cell_type": "code",
   "execution_count": 9,
   "id": "46e5a167",
   "metadata": {},
   "outputs": [
    {
     "data": {
      "text/html": [
       "<div>\n",
       "<style scoped>\n",
       "    .dataframe tbody tr th:only-of-type {\n",
       "        vertical-align: middle;\n",
       "    }\n",
       "\n",
       "    .dataframe tbody tr th {\n",
       "        vertical-align: top;\n",
       "    }\n",
       "\n",
       "    .dataframe thead th {\n",
       "        text-align: right;\n",
       "    }\n",
       "</style>\n",
       "<table border=\"1\" class=\"dataframe\">\n",
       "  <thead>\n",
       "    <tr style=\"text-align: right;\">\n",
       "      <th></th>\n",
       "      <th>age</th>\n",
       "      <th>job</th>\n",
       "      <th>marital</th>\n",
       "      <th>education</th>\n",
       "      <th>default</th>\n",
       "      <th>housing</th>\n",
       "      <th>loan</th>\n",
       "      <th>contact</th>\n",
       "      <th>month</th>\n",
       "      <th>day_of_week</th>\n",
       "      <th>campaign</th>\n",
       "      <th>pdays</th>\n",
       "      <th>previous</th>\n",
       "      <th>poutcome</th>\n",
       "      <th>emp.var.rate</th>\n",
       "      <th>cons.price.idx</th>\n",
       "      <th>cons.conf.idx</th>\n",
       "      <th>euribor3m</th>\n",
       "      <th>nr.employed</th>\n",
       "      <th>y</th>\n",
       "      <th>Categoria_Edad</th>\n",
       "    </tr>\n",
       "  </thead>\n",
       "  <tbody>\n",
       "    <tr>\n",
       "      <th>0</th>\n",
       "      <td>56</td>\n",
       "      <td>housemaid</td>\n",
       "      <td>married</td>\n",
       "      <td>basic.4y</td>\n",
       "      <td>no</td>\n",
       "      <td>no</td>\n",
       "      <td>no</td>\n",
       "      <td>telephone</td>\n",
       "      <td>may</td>\n",
       "      <td>mon</td>\n",
       "      <td>1</td>\n",
       "      <td>999</td>\n",
       "      <td>0</td>\n",
       "      <td>nonexistent</td>\n",
       "      <td>1.1</td>\n",
       "      <td>93994.0</td>\n",
       "      <td>-36.4</td>\n",
       "      <td>4857.0</td>\n",
       "      <td>5191.0</td>\n",
       "      <td>no</td>\n",
       "      <td>Entre 56 y 60</td>\n",
       "    </tr>\n",
       "    <tr>\n",
       "      <th>1</th>\n",
       "      <td>57</td>\n",
       "      <td>services</td>\n",
       "      <td>married</td>\n",
       "      <td>high.school</td>\n",
       "      <td>unknown</td>\n",
       "      <td>no</td>\n",
       "      <td>no</td>\n",
       "      <td>telephone</td>\n",
       "      <td>may</td>\n",
       "      <td>mon</td>\n",
       "      <td>1</td>\n",
       "      <td>999</td>\n",
       "      <td>0</td>\n",
       "      <td>nonexistent</td>\n",
       "      <td>1.1</td>\n",
       "      <td>93994.0</td>\n",
       "      <td>-36.4</td>\n",
       "      <td>4857.0</td>\n",
       "      <td>5191.0</td>\n",
       "      <td>no</td>\n",
       "      <td>Entre 56 y 60</td>\n",
       "    </tr>\n",
       "    <tr>\n",
       "      <th>2</th>\n",
       "      <td>37</td>\n",
       "      <td>services</td>\n",
       "      <td>married</td>\n",
       "      <td>high.school</td>\n",
       "      <td>no</td>\n",
       "      <td>yes</td>\n",
       "      <td>no</td>\n",
       "      <td>telephone</td>\n",
       "      <td>may</td>\n",
       "      <td>mon</td>\n",
       "      <td>1</td>\n",
       "      <td>999</td>\n",
       "      <td>0</td>\n",
       "      <td>nonexistent</td>\n",
       "      <td>1.1</td>\n",
       "      <td>93994.0</td>\n",
       "      <td>-36.4</td>\n",
       "      <td>4857.0</td>\n",
       "      <td>5191.0</td>\n",
       "      <td>no</td>\n",
       "      <td>Entre 36 y 40</td>\n",
       "    </tr>\n",
       "    <tr>\n",
       "      <th>3</th>\n",
       "      <td>40</td>\n",
       "      <td>admin.</td>\n",
       "      <td>married</td>\n",
       "      <td>basic.6y</td>\n",
       "      <td>no</td>\n",
       "      <td>no</td>\n",
       "      <td>no</td>\n",
       "      <td>telephone</td>\n",
       "      <td>may</td>\n",
       "      <td>mon</td>\n",
       "      <td>1</td>\n",
       "      <td>999</td>\n",
       "      <td>0</td>\n",
       "      <td>nonexistent</td>\n",
       "      <td>1.1</td>\n",
       "      <td>93994.0</td>\n",
       "      <td>-36.4</td>\n",
       "      <td>4857.0</td>\n",
       "      <td>5191.0</td>\n",
       "      <td>no</td>\n",
       "      <td>Entre 36 y 40</td>\n",
       "    </tr>\n",
       "    <tr>\n",
       "      <th>4</th>\n",
       "      <td>56</td>\n",
       "      <td>services</td>\n",
       "      <td>married</td>\n",
       "      <td>high.school</td>\n",
       "      <td>no</td>\n",
       "      <td>no</td>\n",
       "      <td>yes</td>\n",
       "      <td>telephone</td>\n",
       "      <td>may</td>\n",
       "      <td>mon</td>\n",
       "      <td>1</td>\n",
       "      <td>999</td>\n",
       "      <td>0</td>\n",
       "      <td>nonexistent</td>\n",
       "      <td>1.1</td>\n",
       "      <td>93994.0</td>\n",
       "      <td>-36.4</td>\n",
       "      <td>4857.0</td>\n",
       "      <td>5191.0</td>\n",
       "      <td>no</td>\n",
       "      <td>Entre 56 y 60</td>\n",
       "    </tr>\n",
       "  </tbody>\n",
       "</table>\n",
       "</div>"
      ],
      "text/plain": [
       "   age        job  marital    education  default housing loan    contact  \\\n",
       "0   56  housemaid  married     basic.4y       no      no   no  telephone   \n",
       "1   57   services  married  high.school  unknown      no   no  telephone   \n",
       "2   37   services  married  high.school       no     yes   no  telephone   \n",
       "3   40     admin.  married     basic.6y       no      no   no  telephone   \n",
       "4   56   services  married  high.school       no      no  yes  telephone   \n",
       "\n",
       "  month day_of_week  campaign  pdays  previous     poutcome  emp.var.rate  \\\n",
       "0   may         mon         1    999         0  nonexistent           1.1   \n",
       "1   may         mon         1    999         0  nonexistent           1.1   \n",
       "2   may         mon         1    999         0  nonexistent           1.1   \n",
       "3   may         mon         1    999         0  nonexistent           1.1   \n",
       "4   may         mon         1    999         0  nonexistent           1.1   \n",
       "\n",
       "   cons.price.idx  cons.conf.idx  euribor3m  nr.employed   y Categoria_Edad  \n",
       "0         93994.0          -36.4     4857.0       5191.0  no  Entre 56 y 60  \n",
       "1         93994.0          -36.4     4857.0       5191.0  no  Entre 56 y 60  \n",
       "2         93994.0          -36.4     4857.0       5191.0  no  Entre 36 y 40  \n",
       "3         93994.0          -36.4     4857.0       5191.0  no  Entre 36 y 40  \n",
       "4         93994.0          -36.4     4857.0       5191.0  no  Entre 56 y 60  "
      ]
     },
     "execution_count": 9,
     "metadata": {},
     "output_type": "execute_result"
    }
   ],
   "source": [
    "# Voy a crear una Lista de categorias de edad, para poder hacer una mejor visualización de las distribuciones de edades:\n",
    "\n",
    "Categoria_Edad = []\n",
    "for i in range(len(Datos)):\n",
    "    if Datos.loc[i,'age'] < 20:\n",
    "        Categoria_Edad.append('Menor a 20')\n",
    "        i =+ 1\n",
    "    elif Datos.loc[i,'age'] < 31:\n",
    "        Categoria_Edad.append('Entre 20 y 30')\n",
    "        i =+ 1\n",
    "    elif Datos.loc[i,'age'] < 36:\n",
    "        Categoria_Edad.append('Entre 31 y 35')\n",
    "        i =+ 1\n",
    "    elif Datos.loc[i,'age'] < 41:\n",
    "        Categoria_Edad.append('Entre 36 y 40')\n",
    "        i =+ 1\n",
    "    elif Datos.loc[i,'age'] < 46:\n",
    "        Categoria_Edad.append('Entre 41 y 45')\n",
    "        i =+ 1\n",
    "    elif Datos.loc[i,'age'] < 51:\n",
    "        Categoria_Edad.append('Entre 46 y 50')\n",
    "        i =+ 1\n",
    "    elif Datos.loc[i,'age'] < 56:\n",
    "        Categoria_Edad.append('Entre 51 y 55')\n",
    "        i =+ 1\n",
    "    elif Datos.loc[i,'age'] < 61:\n",
    "        Categoria_Edad.append('Entre 56 y 60')\n",
    "        i =+ 1\n",
    "    elif Datos.loc[i,'age'] < 71:\n",
    "        Categoria_Edad.append('Entre 61 y 70')\n",
    "        i =+ 1\n",
    "    else:\n",
    "        Categoria_Edad.append('Mayor a 70')\n",
    "        i =+ 1\n",
    "        \n",
    "# Voy a agregar la lista al DataFrame para poder graficar los datos con seaborn a partir del DataFrame:\n",
    "\n",
    "DF_Visualizacion = Datos.copy()\n",
    "DF_Visualizacion['Categoria_Edad'] = Categoria_Edad\n",
    "DF_Visualizacion.head()"
   ]
  },
  {
   "cell_type": "code",
   "execution_count": 10,
   "id": "1f571a66",
   "metadata": {},
   "outputs": [
    {
     "data": {
      "text/plain": [
       "<AxesSubplot:xlabel='count', ylabel='Categoria_Edad'>"
      ]
     },
     "execution_count": 10,
     "metadata": {},
     "output_type": "execute_result"
    },
    {
     "data": {
      "image/png": "[encoded data removed]",
      "text/plain": [
       "<Figure size 432x288 with 1 Axes>"
      ]
     },
     "metadata": {
      "needs_background": "light"
     },
     "output_type": "display_data"
    }
   ],
   "source": [
    "# Voy a ver algunos histogramas:\n",
    "\n",
    "sns.countplot(y = 'Categoria_Edad', data = DF_Visualizacion, palette = 'Set2')"
   ]
  },
  {
   "cell_type": "code",
   "execution_count": 11,
   "id": "8f93b2ed",
   "metadata": {},
   "outputs": [
    {
     "data": {
      "text/plain": [
       "<AxesSubplot:xlabel='count', ylabel='job'>"
      ]
     },
     "execution_count": 11,
     "metadata": {},
     "output_type": "execute_result"
    },
    {
     "data": {
      "image/png": "[encoded data removed]",
      "text/plain": [
       "<Figure size 432x288 with 1 Axes>"
      ]
     },
     "metadata": {
      "needs_background": "light"
     },
     "output_type": "display_data"
    }
   ],
   "source": [
    "sns.countplot(y = 'job', data = Datos, palette = 'Set2')"
   ]
  },
  {
   "cell_type": "code",
   "execution_count": 12,
   "id": "4454b770",
   "metadata": {},
   "outputs": [
    {
     "data": {
      "text/plain": [
       "<AxesSubplot:xlabel='count', ylabel='marital'>"
      ]
     },
     "execution_count": 12,
     "metadata": {},
     "output_type": "execute_result"
    },
    {
     "data": {
      "image/png": "[encoded data removed]",
      "text/plain": [
       "<Figure size 432x288 with 1 Axes>"
      ]
     },
     "metadata": {
      "needs_background": "light"
     },
     "output_type": "display_data"
    }
   ],
   "source": [
    "sns.countplot(y = 'marital', data = Datos, palette = 'Set2')"
   ]
  },
  {
   "cell_type": "code",
   "execution_count": 13,
   "id": "088fdb85",
   "metadata": {},
   "outputs": [
    {
     "data": {
      "text/plain": [
       "<AxesSubplot:xlabel='count', ylabel='education'>"
      ]
     },
     "execution_count": 13,
     "metadata": {},
     "output_type": "execute_result"
    },
    {
     "data": {
      "image/png": "[encoded data removed]",
      "text/plain": [
       "<Figure size 432x288 with 1 Axes>"
      ]
     },
     "metadata": {
      "needs_background": "light"
     },
     "output_type": "display_data"
    }
   ],
   "source": [
    "sns.countplot(y = 'education', data = Datos, palette = 'Set2')"
   ]
  },
  {
   "cell_type": "code",
   "execution_count": 14,
   "id": "cb06fb99",
   "metadata": {},
   "outputs": [
    {
     "data": {
      "text/plain": [
       "<AxesSubplot:xlabel='count', ylabel='housing'>"
      ]
     },
     "execution_count": 14,
     "metadata": {},
     "output_type": "execute_result"
    },
    {
     "data": {
      "image/png": "[encoded data removed]",
      "text/plain": [
       "<Figure size 432x288 with 1 Axes>"
      ]
     },
     "metadata": {
      "needs_background": "light"
     },
     "output_type": "display_data"
    }
   ],
   "source": [
    "sns.countplot(y = 'housing', data = Datos, palette = 'Set2')"
   ]
  },
  {
   "cell_type": "code",
   "execution_count": 15,
   "id": "54eb6549",
   "metadata": {},
   "outputs": [
    {
     "data": {
      "text/plain": [
       "<AxesSubplot:xlabel='count', ylabel='month'>"
      ]
     },
     "execution_count": 15,
     "metadata": {},
     "output_type": "execute_result"
    },
    {
     "data": {
      "image/png": "[encoded data removed]",
      "text/plain": [
       "<Figure size 432x288 with 1 Axes>"
      ]
     },
     "metadata": {
      "needs_background": "light"
     },
     "output_type": "display_data"
    }
   ],
   "source": [
    "sns.countplot(y = 'month', data = Datos, palette = 'Set2')"
   ]
  },
  {
   "cell_type": "code",
   "execution_count": 16,
   "id": "b6b5c6ee",
   "metadata": {},
   "outputs": [
    {
     "data": {
      "text/plain": [
       "<AxesSubplot:xlabel='count', ylabel='day_of_week'>"
      ]
     },
     "execution_count": 16,
     "metadata": {},
     "output_type": "execute_result"
    },
    {
     "data": {
      "image/png": "[encoded data removed]",
      "text/plain": [
       "<Figure size 432x288 with 1 Axes>"
      ]
     },
     "metadata": {
      "needs_background": "light"
     },
     "output_type": "display_data"
    }
   ],
   "source": [
    "sns.countplot(y = 'day_of_week', data = Datos, palette = 'Set2')"
   ]
  },
  {
   "cell_type": "code",
   "execution_count": 17,
   "id": "e56dc3ae",
   "metadata": {},
   "outputs": [
    {
     "data": {
      "text/plain": [
       "<AxesSubplot:xlabel='count', ylabel='emp.var.rate'>"
      ]
     },
     "execution_count": 17,
     "metadata": {},
     "output_type": "execute_result"
    },
    {
     "data": {
      "image/png": "[encoded data removed]",
      "text/plain": [
       "<Figure size 432x288 with 1 Axes>"
      ]
     },
     "metadata": {
      "needs_background": "light"
     },
     "output_type": "display_data"
    }
   ],
   "source": [
    "sns.countplot(y = 'emp.var.rate', data = Datos, palette = 'Set2')"
   ]
  },
  {
   "cell_type": "code",
   "execution_count": 18,
   "id": "8713e5aa",
   "metadata": {},
   "outputs": [
    {
     "data": {
      "text/plain": [
       "<AxesSubplot:xlabel='count', ylabel='cons.price.idx'>"
      ]
     },
     "execution_count": 18,
     "metadata": {},
     "output_type": "execute_result"
    },
    {
     "data": {
      "image/png": "[encoded data removed]",
      "text/plain": [
       "<Figure size 432x288 with 1 Axes>"
      ]
     },
     "metadata": {
      "needs_background": "light"
     },
     "output_type": "display_data"
    }
   ],
   "source": [
    "sns.countplot(y = 'cons.price.idx', data = Datos, palette = 'Set2')"
   ]
  },
  {
   "cell_type": "code",
   "execution_count": 19,
   "id": "21b7b9cd",
   "metadata": {},
   "outputs": [
    {
     "data": {
      "text/plain": [
       "<AxesSubplot:xlabel='count', ylabel='nr.employed'>"
      ]
     },
     "execution_count": 19,
     "metadata": {},
     "output_type": "execute_result"
    },
    {
     "data": {
      "image/png": "[encoded data removed]",
      "text/plain": [
       "<Figure size 432x288 with 1 Axes>"
      ]
     },
     "metadata": {
      "needs_background": "light"
     },
     "output_type": "display_data"
    }
   ],
   "source": [
    "sns.countplot(y = 'nr.employed', data = Datos, palette = 'Set2')"
   ]
  },
  {
   "cell_type": "code",
   "execution_count": 20,
   "id": "ec093225",
   "metadata": {},
   "outputs": [
    {
     "data": {
      "text/plain": [
       "<AxesSubplot:xlabel='count', ylabel='y'>"
      ]
     },
     "execution_count": 20,
     "metadata": {},
     "output_type": "execute_result"
    },
    {
     "data": {
      "image/png": "[encoded data removed]",
      "text/plain": [
       "<Figure size 432x288 with 1 Axes>"
      ]
     },
     "metadata": {
      "needs_background": "light"
     },
     "output_type": "display_data"
    }
   ],
   "source": [
    "sns.countplot(y = 'y', data = Datos, palette = 'Set2')"
   ]
  },
  {
   "cell_type": "code",
   "execution_count": 21,
   "id": "ae60ea52",
   "metadata": {},
   "outputs": [
    {
     "data": {
      "image/png": "[encoded data removed]",
      "text/plain": [
       "<Figure size 432x288 with 1 Axes>"
      ]
     },
     "metadata": {
      "needs_background": "light"
     },
     "output_type": "display_data"
    }
   ],
   "source": [
    "# De ver estos gráficos puedo concluir que hay cierta tendencia a valores particulares en:\n",
    "# Categoria_Edad, job, marital, month, emp.var.rate y nr.employed. \n",
    "# Por último, resulta útil ver que solo alrededor del 15% de las personas contactadas decidieron \n",
    "# tomar el depósito.\n",
    "\n",
    "# A continuación voy a ver la distribución de algunas de las variables numéricas, para ver si\n",
    "# tienen distribución normal o no:\n",
    "\n",
    "plt.hist(Datos['age'])\n",
    "plt.xlabel('Edades')\n",
    "plt.title('Distribución edades');"
   ]
  },
  {
   "cell_type": "code",
   "execution_count": 22,
   "id": "aa1ded19",
   "metadata": {},
   "outputs": [
    {
     "data": {
      "image/png": "[encoded data removed]",
      "text/plain": [
       "<Figure size 432x288 with 1 Axes>"
      ]
     },
     "metadata": {
      "needs_background": "light"
     },
     "output_type": "display_data"
    }
   ],
   "source": [
    "plt.hist(Datos['emp.var.rate'])\n",
    "plt.xlabel('Employment_variance_rate')\n",
    "plt.title('Distribución employment variance');"
   ]
  },
  {
   "cell_type": "code",
   "execution_count": 23,
   "id": "ed12871d",
   "metadata": {},
   "outputs": [
    {
     "data": {
      "image/png": "[encoded data removed]",
      "text/plain": [
       "<Figure size 432x288 with 1 Axes>"
      ]
     },
     "metadata": {
      "needs_background": "light"
     },
     "output_type": "display_data"
    }
   ],
   "source": [
    "plt.hist(Datos['nr.employed'])\n",
    "plt.xlabel('Empleo')\n",
    "plt.title('Distribución empleo');"
   ]
  },
  {
   "cell_type": "markdown",
   "id": "1d756b2a",
   "metadata": {},
   "source": [
    "Solo puedo ver una tendencia normal en el grafico de edades."
   ]
  },
  {
   "cell_type": "code",
   "execution_count": 24,
   "id": "284b298b",
   "metadata": {},
   "outputs": [
    {
     "data": {
      "text/plain": [
       "age                  int64\n",
       "job               category\n",
       "marital           category\n",
       "education         category\n",
       "default           category\n",
       "housing           category\n",
       "loan              category\n",
       "contact           category\n",
       "month             category\n",
       "day_of_week       category\n",
       "campaign             int64\n",
       "pdays                int64\n",
       "previous             int64\n",
       "poutcome          category\n",
       "emp.var.rate       float64\n",
       "cons.price.idx     float64\n",
       "cons.conf.idx      float64\n",
       "euribor3m          float64\n",
       "nr.employed        float64\n",
       "y                 category\n",
       "dtype: object"
      ]
     },
     "execution_count": 24,
     "metadata": {},
     "output_type": "execute_result"
    }
   ],
   "source": [
    "# Voy a pasar los datos categoricos a numericos para poder hacer una visualizacion de matriz de correlación.\n",
    "# Ademas va a ser necesario para poder implementar los modelos. para esto voy a utilizar el metodo de label encoding.\n",
    "# Para esto primero va a ser necesario pasar los datos categoricos de dtype object (string) a category.:\n",
    "\n",
    "Datos['job'] = Datos['job'].astype('category')\n",
    "Datos['marital'] = Datos['marital'].astype('category')\n",
    "Datos['education'] = Datos['education'].astype('category')\n",
    "Datos['default'] = Datos['default'].astype('category')\n",
    "Datos['housing'] = Datos['housing'].astype('category')\n",
    "Datos['loan'] = Datos['loan'].astype('category')\n",
    "Datos['contact'] = Datos['contact'].astype('category')\n",
    "Datos['month'] = Datos['month'].astype('category')\n",
    "Datos['day_of_week'] = Datos['day_of_week'].astype('category')\n",
    "Datos['poutcome'] = Datos['poutcome'].astype('category')\n",
    "Datos['y'] = Datos['y'].astype('category')\n",
    "Datos.dtypes\n",
    "\n",
    "# Un beneficio extra de tener estos datos como category en lugar de object es que va a mejorar la performance de\n",
    "# todos los procesos."
   ]
  },
  {
   "cell_type": "code",
   "execution_count": 25,
   "id": "aff2b192",
   "metadata": {},
   "outputs": [
    {
     "data": {
      "text/html": [
       "<div>\n",
       "<style scoped>\n",
       "    .dataframe tbody tr th:only-of-type {\n",
       "        vertical-align: middle;\n",
       "    }\n",
       "\n",
       "    .dataframe tbody tr th {\n",
       "        vertical-align: top;\n",
       "    }\n",
       "\n",
       "    .dataframe thead th {\n",
       "        text-align: right;\n",
       "    }\n",
       "</style>\n",
       "<table border=\"1\" class=\"dataframe\">\n",
       "  <thead>\n",
       "    <tr style=\"text-align: right;\">\n",
       "      <th></th>\n",
       "      <th>age</th>\n",
       "      <th>job</th>\n",
       "      <th>marital</th>\n",
       "      <th>education</th>\n",
       "      <th>default</th>\n",
       "      <th>housing</th>\n",
       "      <th>loan</th>\n",
       "      <th>contact</th>\n",
       "      <th>month</th>\n",
       "      <th>day_of_week</th>\n",
       "      <th>campaign</th>\n",
       "      <th>pdays</th>\n",
       "      <th>previous</th>\n",
       "      <th>poutcome</th>\n",
       "      <th>emp.var.rate</th>\n",
       "      <th>cons.price.idx</th>\n",
       "      <th>cons.conf.idx</th>\n",
       "      <th>euribor3m</th>\n",
       "      <th>nr.employed</th>\n",
       "      <th>y</th>\n",
       "    </tr>\n",
       "  </thead>\n",
       "  <tbody>\n",
       "    <tr>\n",
       "      <th>0</th>\n",
       "      <td>56</td>\n",
       "      <td>3</td>\n",
       "      <td>1</td>\n",
       "      <td>0</td>\n",
       "      <td>0</td>\n",
       "      <td>0</td>\n",
       "      <td>0</td>\n",
       "      <td>1</td>\n",
       "      <td>6</td>\n",
       "      <td>1</td>\n",
       "      <td>1</td>\n",
       "      <td>999</td>\n",
       "      <td>0</td>\n",
       "      <td>1</td>\n",
       "      <td>1.1</td>\n",
       "      <td>93994.0</td>\n",
       "      <td>-36.4</td>\n",
       "      <td>4857.0</td>\n",
       "      <td>5191.0</td>\n",
       "      <td>0</td>\n",
       "    </tr>\n",
       "    <tr>\n",
       "      <th>1</th>\n",
       "      <td>57</td>\n",
       "      <td>7</td>\n",
       "      <td>1</td>\n",
       "      <td>3</td>\n",
       "      <td>1</td>\n",
       "      <td>0</td>\n",
       "      <td>0</td>\n",
       "      <td>1</td>\n",
       "      <td>6</td>\n",
       "      <td>1</td>\n",
       "      <td>1</td>\n",
       "      <td>999</td>\n",
       "      <td>0</td>\n",
       "      <td>1</td>\n",
       "      <td>1.1</td>\n",
       "      <td>93994.0</td>\n",
       "      <td>-36.4</td>\n",
       "      <td>4857.0</td>\n",
       "      <td>5191.0</td>\n",
       "      <td>0</td>\n",
       "    </tr>\n",
       "    <tr>\n",
       "      <th>2</th>\n",
       "      <td>37</td>\n",
       "      <td>7</td>\n",
       "      <td>1</td>\n",
       "      <td>3</td>\n",
       "      <td>0</td>\n",
       "      <td>2</td>\n",
       "      <td>0</td>\n",
       "      <td>1</td>\n",
       "      <td>6</td>\n",
       "      <td>1</td>\n",
       "      <td>1</td>\n",
       "      <td>999</td>\n",
       "      <td>0</td>\n",
       "      <td>1</td>\n",
       "      <td>1.1</td>\n",
       "      <td>93994.0</td>\n",
       "      <td>-36.4</td>\n",
       "      <td>4857.0</td>\n",
       "      <td>5191.0</td>\n",
       "      <td>0</td>\n",
       "    </tr>\n",
       "    <tr>\n",
       "      <th>3</th>\n",
       "      <td>40</td>\n",
       "      <td>0</td>\n",
       "      <td>1</td>\n",
       "      <td>1</td>\n",
       "      <td>0</td>\n",
       "      <td>0</td>\n",
       "      <td>0</td>\n",
       "      <td>1</td>\n",
       "      <td>6</td>\n",
       "      <td>1</td>\n",
       "      <td>1</td>\n",
       "      <td>999</td>\n",
       "      <td>0</td>\n",
       "      <td>1</td>\n",
       "      <td>1.1</td>\n",
       "      <td>93994.0</td>\n",
       "      <td>-36.4</td>\n",
       "      <td>4857.0</td>\n",
       "      <td>5191.0</td>\n",
       "      <td>0</td>\n",
       "    </tr>\n",
       "    <tr>\n",
       "      <th>4</th>\n",
       "      <td>56</td>\n",
       "      <td>7</td>\n",
       "      <td>1</td>\n",
       "      <td>3</td>\n",
       "      <td>0</td>\n",
       "      <td>0</td>\n",
       "      <td>2</td>\n",
       "      <td>1</td>\n",
       "      <td>6</td>\n",
       "      <td>1</td>\n",
       "      <td>1</td>\n",
       "      <td>999</td>\n",
       "      <td>0</td>\n",
       "      <td>1</td>\n",
       "      <td>1.1</td>\n",
       "      <td>93994.0</td>\n",
       "      <td>-36.4</td>\n",
       "      <td>4857.0</td>\n",
       "      <td>5191.0</td>\n",
       "      <td>0</td>\n",
       "    </tr>\n",
       "  </tbody>\n",
       "</table>\n",
       "</div>"
      ],
      "text/plain": [
       "   age  job  marital  education  default  housing  loan  contact  month  \\\n",
       "0   56    3        1          0        0        0     0        1      6   \n",
       "1   57    7        1          3        1        0     0        1      6   \n",
       "2   37    7        1          3        0        2     0        1      6   \n",
       "3   40    0        1          1        0        0     0        1      6   \n",
       "4   56    7        1          3        0        0     2        1      6   \n",
       "\n",
       "   day_of_week  campaign  pdays  previous  poutcome  emp.var.rate  \\\n",
       "0            1         1    999         0         1           1.1   \n",
       "1            1         1    999         0         1           1.1   \n",
       "2            1         1    999         0         1           1.1   \n",
       "3            1         1    999         0         1           1.1   \n",
       "4            1         1    999         0         1           1.1   \n",
       "\n",
       "   cons.price.idx  cons.conf.idx  euribor3m  nr.employed  y  \n",
       "0         93994.0          -36.4     4857.0       5191.0  0  \n",
       "1         93994.0          -36.4     4857.0       5191.0  0  \n",
       "2         93994.0          -36.4     4857.0       5191.0  0  \n",
       "3         93994.0          -36.4     4857.0       5191.0  0  \n",
       "4         93994.0          -36.4     4857.0       5191.0  0  "
      ]
     },
     "execution_count": 25,
     "metadata": {},
     "output_type": "execute_result"
    }
   ],
   "source": [
    "Datos['job'] = Datos['job'].cat.codes\n",
    "Datos['marital'] = Datos['marital'].cat.codes\n",
    "Datos['education'] = Datos['education'].cat.codes\n",
    "Datos['default'] = Datos['default'].cat.codes\n",
    "Datos['housing'] = Datos['housing'].cat.codes\n",
    "Datos['loan'] = Datos['loan'].cat.codes\n",
    "Datos['contact'] = Datos['contact'].cat.codes\n",
    "Datos['month'] = Datos['month'].cat.codes\n",
    "Datos['day_of_week'] = Datos['day_of_week'].cat.codes\n",
    "Datos['poutcome'] = Datos['poutcome'].cat.codes\n",
    "Datos['y'] = Datos['y'].cat.codes\n",
    "Datos.head()"
   ]
  },
  {
   "cell_type": "markdown",
   "id": "2c7eb8b4",
   "metadata": {},
   "source": [
    "# Detección y eliminación de outliers:"
   ]
  },
  {
   "cell_type": "code",
   "execution_count": 26,
   "id": "514b2cc6",
   "metadata": {},
   "outputs": [
    {
     "data": {
      "text/plain": [
       "<AxesSubplot:ylabel='age'>"
      ]
     },
     "execution_count": 26,
     "metadata": {},
     "output_type": "execute_result"
    },
    {
     "data": {
      "image/png": "[encoded data removed]",
      "text/plain": [
       "<Figure size 432x288 with 1 Axes>"
      ]
     },
     "metadata": {
      "needs_background": "light"
     },
     "output_type": "display_data"
    }
   ],
   "source": [
    "# Voy a hacer algunos boxplots para ver en que categorias hay outliers:\n",
    "\n",
    "sns.boxplot(y='age',data=Datos)"
   ]
  },
  {
   "cell_type": "code",
   "execution_count": 27,
   "id": "b938121f",
   "metadata": {},
   "outputs": [
    {
     "data": {
      "text/plain": [
       "<AxesSubplot:ylabel='job'>"
      ]
     },
     "execution_count": 27,
     "metadata": {},
     "output_type": "execute_result"
    },
    {
     "data": {
      "image/png": "[encoded data removed]",
      "text/plain": [
       "<Figure size 432x288 with 1 Axes>"
      ]
     },
     "metadata": {
      "needs_background": "light"
     },
     "output_type": "display_data"
    }
   ],
   "source": [
    "sns.boxplot(y='job',data=Datos)"
   ]
  },
  {
   "cell_type": "code",
   "execution_count": 28,
   "id": "6f2cdf6e",
   "metadata": {},
   "outputs": [
    {
     "data": {
      "text/plain": [
       "<AxesSubplot:ylabel='marital'>"
      ]
     },
     "execution_count": 28,
     "metadata": {},
     "output_type": "execute_result"
    },
    {
     "data": {
      "image/png": "[encoded data removed]",
      "text/plain": [
       "<Figure size 432x288 with 1 Axes>"
      ]
     },
     "metadata": {
      "needs_background": "light"
     },
     "output_type": "display_data"
    }
   ],
   "source": [
    "sns.boxplot(y='marital',data=Datos)"
   ]
  },
  {
   "cell_type": "code",
   "execution_count": 29,
   "id": "f0e1fe05",
   "metadata": {},
   "outputs": [
    {
     "data": {
      "text/plain": [
       "<AxesSubplot:ylabel='education'>"
      ]
     },
     "execution_count": 29,
     "metadata": {},
     "output_type": "execute_result"
    },
    {
     "data": {
      "image/png": "[encoded data removed]",
      "text/plain": [
       "<Figure size 432x288 with 1 Axes>"
      ]
     },
     "metadata": {
      "needs_background": "light"
     },
     "output_type": "display_data"
    }
   ],
   "source": [
    "sns.boxplot(y='education',data=Datos)"
   ]
  },
  {
   "cell_type": "code",
   "execution_count": 30,
   "id": "0af5c902",
   "metadata": {},
   "outputs": [
    {
     "data": {
      "text/plain": [
       "<AxesSubplot:ylabel='month'>"
      ]
     },
     "execution_count": 30,
     "metadata": {},
     "output_type": "execute_result"
    },
    {
     "data": {
      "image/png": "[encoded data removed]",
      "text/plain": [
       "<Figure size 432x288 with 1 Axes>"
      ]
     },
     "metadata": {
      "needs_background": "light"
     },
     "output_type": "display_data"
    }
   ],
   "source": [
    "sns.boxplot(y='month',data=Datos)"
   ]
  },
  {
   "cell_type": "code",
   "execution_count": 31,
   "id": "1148e517",
   "metadata": {},
   "outputs": [
    {
     "data": {
      "text/plain": [
       "<AxesSubplot:ylabel='day_of_week'>"
      ]
     },
     "execution_count": 31,
     "metadata": {},
     "output_type": "execute_result"
    },
    {
     "data": {
      "image/png": "[encoded data removed]",
      "text/plain": [
       "<Figure size 432x288 with 1 Axes>"
      ]
     },
     "metadata": {
      "needs_background": "light"
     },
     "output_type": "display_data"
    }
   ],
   "source": [
    "sns.boxplot(y='day_of_week',data=Datos)"
   ]
  },
  {
   "cell_type": "code",
   "execution_count": 32,
   "id": "16130b40",
   "metadata": {},
   "outputs": [
    {
     "data": {
      "text/plain": [
       "<AxesSubplot:ylabel='campaign'>"
      ]
     },
     "execution_count": 32,
     "metadata": {},
     "output_type": "execute_result"
    },
    {
     "data": {
      "image/png": "[encoded data removed]",
      "text/plain": [
       "<Figure size 432x288 with 1 Axes>"
      ]
     },
     "metadata": {
      "needs_background": "light"
     },
     "output_type": "display_data"
    }
   ],
   "source": [
    "sns.boxplot(y='campaign',data=Datos)"
   ]
  },
  {
   "cell_type": "code",
   "execution_count": 33,
   "id": "96d17ab8",
   "metadata": {},
   "outputs": [
    {
     "data": {
      "text/plain": [
       "<AxesSubplot:ylabel='emp.var.rate'>"
      ]
     },
     "execution_count": 33,
     "metadata": {},
     "output_type": "execute_result"
    },
    {
     "data": {
      "image/png": "[encoded data removed]",
      "text/plain": [
       "<Figure size 432x288 with 1 Axes>"
      ]
     },
     "metadata": {
      "needs_background": "light"
     },
     "output_type": "display_data"
    }
   ],
   "source": [
    "sns.boxplot(y='emp.var.rate',data=Datos)"
   ]
  },
  {
   "cell_type": "code",
   "execution_count": 34,
   "id": "a1e5ea96",
   "metadata": {},
   "outputs": [
    {
     "data": {
      "text/plain": [
       "<AxesSubplot:ylabel='cons.price.idx'>"
      ]
     },
     "execution_count": 34,
     "metadata": {},
     "output_type": "execute_result"
    },
    {
     "data": {
      "image/png": "[encoded data removed]",
      "text/plain": [
       "<Figure size 432x288 with 1 Axes>"
      ]
     },
     "metadata": {
      "needs_background": "light"
     },
     "output_type": "display_data"
    }
   ],
   "source": [
    "sns.boxplot(y='cons.price.idx',data=Datos)"
   ]
  },
  {
   "cell_type": "code",
   "execution_count": 35,
   "id": "e46d4680",
   "metadata": {},
   "outputs": [
    {
     "data": {
      "text/plain": [
       "<AxesSubplot:ylabel='cons.conf.idx'>"
      ]
     },
     "execution_count": 35,
     "metadata": {},
     "output_type": "execute_result"
    },
    {
     "data": {
      "image/png": "[encoded data removed]",
      "text/plain": [
       "<Figure size 432x288 with 1 Axes>"
      ]
     },
     "metadata": {
      "needs_background": "light"
     },
     "output_type": "display_data"
    }
   ],
   "source": [
    "sns.boxplot(y='cons.conf.idx',data=Datos)"
   ]
  },
  {
   "cell_type": "code",
   "execution_count": 36,
   "id": "0fdba614",
   "metadata": {},
   "outputs": [
    {
     "data": {
      "text/plain": [
       "<AxesSubplot:ylabel='euribor3m'>"
      ]
     },
     "execution_count": 36,
     "metadata": {},
     "output_type": "execute_result"
    },
    {
     "data": {
      "image/png": "[encoded data removed]",
      "text/plain": [
       "<Figure size 432x288 with 1 Axes>"
      ]
     },
     "metadata": {
      "needs_background": "light"
     },
     "output_type": "display_data"
    }
   ],
   "source": [
    "sns.boxplot(y='euribor3m',data=Datos)"
   ]
  },
  {
   "cell_type": "code",
   "execution_count": 37,
   "id": "93943b4a",
   "metadata": {},
   "outputs": [
    {
     "data": {
      "text/plain": [
       "<AxesSubplot:ylabel='nr.employed'>"
      ]
     },
     "execution_count": 37,
     "metadata": {},
     "output_type": "execute_result"
    },
    {
     "data": {
      "image/png": "[encoded data removed]",
      "text/plain": [
       "<Figure size 432x288 with 1 Axes>"
      ]
     },
     "metadata": {
      "needs_background": "light"
     },
     "output_type": "display_data"
    }
   ],
   "source": [
    "sns.boxplot(y='nr.employed',data=Datos)"
   ]
  },
  {
   "cell_type": "code",
   "execution_count": 38,
   "id": "47dfccd4",
   "metadata": {},
   "outputs": [
    {
     "name": "stdout",
     "output_type": "stream",
     "text": [
      "40766 Datos despues de eliminar el percentil 1% de los maximos age\n",
      "38374 Datos despues de eliminar el percentil 5% de los maximos campaign\n",
      "34825 Datos despues de eliminar el percentil 1% de los minimos cons.price.idx\n",
      "34429 Datos despues de eliminar el percentil 1% de los maximos cons.conf.idx\n"
     ]
    }
   ],
   "source": [
    "# En los boxplot se pueden ver algunos casos con claros outliers: age, campaign, cons.price.idx y cons.conf.idx\n",
    "\n",
    "# Voy a eliminar el percentil 1% (maximo o minimo, dependiendo el caso), y ver como se modifican los boxplots y los\n",
    "# cuartiles.\n",
    "\n",
    "\n",
    "Datos_sin_outliersAge = Datos.copy()\n",
    "age_limite_max = Datos_sin_outliersAge['age'].quantile(0.99)\n",
    "Datos_sin_outliersAge = Datos_sin_outliersAge[Datos_sin_outliersAge['age']<age_limite_max]\n",
    "print(str(Datos_sin_outliersAge.shape[0]) + ' Datos despues de eliminar el percentil 1% de los maximos age')\n",
    "\n",
    "Datos_sin_outliersCampaign = Datos_sin_outliersAge.copy()\n",
    "campaign_limite_max = Datos_sin_outliersCampaign['campaign'].quantile(0.95)\n",
    "Datos_sin_outliersCampaign = Datos_sin_outliersCampaign[Datos_sin_outliersCampaign['campaign']<campaign_limite_max]\n",
    "print(str(Datos_sin_outliersCampaign.shape[0]) + ' Datos despues de eliminar el percentil 5% de los maximos campaign')\n",
    "\n",
    "Datos_sin_outlierspri = Datos_sin_outliersCampaign.copy()\n",
    "pri_limite_min = Datos_sin_outlierspri['cons.price.idx'].quantile(0.01)\n",
    "Datos_sin_outlierspri = Datos_sin_outlierspri[Datos_sin_outlierspri['cons.price.idx']>pri_limite_min]\n",
    "print(str(Datos_sin_outlierspri.shape[0]) + ' Datos despues de eliminar el percentil 1% de los minimos cons.price.idx')\n",
    "\n",
    "Datos_sin_outliersconf = Datos_sin_outlierspri.copy()\n",
    "conf_limite_max = Datos_sin_outliersconf['cons.conf.idx'].quantile(0.99)\n",
    "Datos_sin_outliersconf = Datos_sin_outliersconf[Datos_sin_outliersconf['cons.conf.idx']<conf_limite_max]\n",
    "print(str(Datos_sin_outliersconf.shape[0]) + ' Datos despues de eliminar el percentil 1% de los maximos cons.conf.idx')"
   ]
  },
  {
   "cell_type": "code",
   "execution_count": 39,
   "id": "11baf038",
   "metadata": {},
   "outputs": [
    {
     "name": "stdout",
     "output_type": "stream",
     "text": [
      "(34429, 20)\n",
      "(41188, 20)\n"
     ]
    }
   ],
   "source": [
    "# Veo cuantos datos fueron eliminados:\n",
    "\n",
    "Datos_sin_outliers = Datos_sin_outliersconf.copy()\n",
    "print(Datos_sin_outliers.shape)\n",
    "print(Datos.shape)"
   ]
  },
  {
   "cell_type": "markdown",
   "id": "4a5d8dfa",
   "metadata": {},
   "source": [
    "Luego de eliminar outliers de las 4 variables mencionadas anteriormente, quedan 36280 datos. Se eliminaron alrededor de un 16% de los datos. Este no es un número para nada menor y definitivamente hay que investigar mas sobre que tan correcto es eliminar esta cantidad. En este caso en particular, la mayor cantidad de datos eliminados proviene de descartar datos de un valor mínimo en la columna cons.price.idx (alrededor de un 9% fueron eliminados por este filtro). Al observar el boxplot de esta variable, se nota que hay una aglomeración de datos muy alejada del core de datos. Por ser asi, considero que seguir adelante habiendo filtrado ese conjunto de datos es correcto, ya que al estar tan alejados del resto de valores (y al ser tanta cantidad), podrian disminuir en gran medida la performance de los modelos.\n",
    "\n",
    "Cuando vemos los outliers de campaing, se ve que solo se eliminan alrededor de 500 datos, incluso descartando todo lo que quede fuera de un parcentil 95%. Por esta razon considero que es razonable eliminar a estos datos.\n",
    "\n",
    "Los outliers por edad se dan mas que nada removiendo edades elevadas. La decision de remover estas edades o no del modelo va a depender del publico objetivo de esta iniciativa. Si el objetivo de este programa incluye edades elevadas habra que generar un modelo que pueda predecir tambien valores tomando en cuenta este rango etario.\n",
    "\n",
    "Si tuviera tiempo de ralizar un analisis mas exhaustivo, definitivamente experimentaria para tratar de entender si\n",
    "eliminar estos datos es correcto o no."
   ]
  },
  {
   "cell_type": "code",
   "execution_count": 40,
   "id": "608cea2c",
   "metadata": {},
   "outputs": [
    {
     "data": {
      "image/png": "[encoded data removed]",
      "text/plain": [
       "<Figure size 432x288 with 1 Axes>"
      ]
     },
     "metadata": {
      "needs_background": "light"
     },
     "output_type": "display_data"
    }
   ],
   "source": [
    "# Voy a volver a analizar los boxplot de las variables que recorte:\n",
    "\n",
    "sns.boxplot(y='age',data=Datos_sin_outliers);"
   ]
  },
  {
   "cell_type": "code",
   "execution_count": 41,
   "id": "9bedca7d",
   "metadata": {},
   "outputs": [
    {
     "data": {
      "image/png": "[encoded data removed]",
      "text/plain": [
       "<Figure size 432x288 with 1 Axes>"
      ]
     },
     "metadata": {
      "needs_background": "light"
     },
     "output_type": "display_data"
    }
   ],
   "source": [
    "sns.boxplot(y='campaign',data=Datos_sin_outliers);"
   ]
  },
  {
   "cell_type": "code",
   "execution_count": 42,
   "id": "fd5ce26e",
   "metadata": {},
   "outputs": [
    {
     "data": {
      "image/png": "[encoded data removed]",
      "text/plain": [
       "<Figure size 432x288 with 1 Axes>"
      ]
     },
     "metadata": {
      "needs_background": "light"
     },
     "output_type": "display_data"
    }
   ],
   "source": [
    "sns.boxplot(y='cons.price.idx',data=Datos_sin_outliers);"
   ]
  },
  {
   "cell_type": "code",
   "execution_count": 43,
   "id": "8931c3f4",
   "metadata": {},
   "outputs": [
    {
     "data": {
      "image/png": "[encoded data removed]",
      "text/plain": [
       "<Figure size 432x288 with 1 Axes>"
      ]
     },
     "metadata": {
      "needs_background": "light"
     },
     "output_type": "display_data"
    }
   ],
   "source": [
    "sns.boxplot(y='cons.conf.idx',data=Datos_sin_outliers);"
   ]
  },
  {
   "cell_type": "markdown",
   "id": "43c449fb",
   "metadata": {},
   "source": [
    "La eliminacion de outliers resulto en boxplots mucho mejor distribuidos. Esto seguramente vaya a mejorar bastante\n",
    "la performance de los modelos de clasificación."
   ]
  },
  {
   "cell_type": "markdown",
   "id": "552e3fda",
   "metadata": {},
   "source": [
    "# Heatmap de correlaciónes:"
   ]
  },
  {
   "cell_type": "code",
   "execution_count": 44,
   "id": "0f68987f",
   "metadata": {},
   "outputs": [
    {
     "data": {
      "text/plain": [
       "<AxesSubplot:>"
      ]
     },
     "execution_count": 44,
     "metadata": {},
     "output_type": "execute_result"
    },
    {
     "data": {
      "image/png": "[encoded data removed]",
      "text/plain": [
       "<Figure size 1440x720 with 2 Axes>"
      ]
     },
     "metadata": {
      "needs_background": "light"
     },
     "output_type": "display_data"
    }
   ],
   "source": [
    "plt.figure(figsize=(20,10))\n",
    "Correlaciones = sns.heatmap(Datos_sin_outliers.corr(),annot =True)\n",
    "Correlaciones"
   ]
  },
  {
   "cell_type": "markdown",
   "id": "ce8cc020",
   "metadata": {},
   "source": [
    "Viendo el heatmap se puede identificar algunas de las variables que mas correlación presentan con la decision de deposito.\n",
    "default, contact, pdays, previos, poutcome, nr.emploted. Voy a utilizar estas variables para construir el modelo, pero\n",
    "no pdays ya que la mayoria de sus valores corresponden a 999. Este valor simboliza que no se contacto al cliente\n",
    "previamente. Al tener tantos valores correspondientes a este valor, entiendo que no aporta mucha información.\n",
    "No voy a considerar emp.var.rate, cons,price.idx, euribor3m ya que se nota que tienen multicolinearidad entre si y con\n",
    "nr.employed. Al ser nr.employed la variable con mayor correlación con y, prefiero utilizar a esta.\n",
    "La no multicolinearidad es un supuesto de muchos modelos de machine learning. Utilizar variables que presentan dependencia\n",
    "entre si podria reducir la performance del modelo."
   ]
  },
  {
   "cell_type": "code",
   "execution_count": 45,
   "id": "dc3d636a",
   "metadata": {},
   "outputs": [
    {
     "data": {
      "text/plain": [
       "(34429, 6)"
      ]
     },
     "execution_count": 45,
     "metadata": {},
     "output_type": "execute_result"
    }
   ],
   "source": [
    "# Voy a generar un DataFrame que solo va a contener las variables que voy a utilizar para el modelo:\n",
    "\n",
    "Datos_modelo = Datos_sin_outliers[['default', 'contact', 'previous', 'poutcome', 'nr.employed', 'y']]\n",
    "Datos_modelo.shape"
   ]
  },
  {
   "cell_type": "markdown",
   "id": "6b7027d3",
   "metadata": {},
   "source": [
    "# Preparando los datos para los modelos de clasificación:"
   ]
  },
  {
   "cell_type": "code",
   "execution_count": 46,
   "id": "144d482e",
   "metadata": {},
   "outputs": [],
   "source": [
    "# Defino las variables:\n",
    "\n",
    "x = Datos_modelo.drop(['y'], axis=1)\n",
    "y = Datos_modelo['y']"
   ]
  },
  {
   "cell_type": "code",
   "execution_count": 47,
   "id": "e0d9eafc",
   "metadata": {},
   "outputs": [
    {
     "name": "stdout",
     "output_type": "stream",
     "text": [
      "(27543, 5)\n",
      "(6886, 5)\n",
      "(27543,)\n",
      "(6886,)\n"
     ]
    }
   ],
   "source": [
    "# Voy a separar los datos que quedaron luego de filtrar outliers y tomar las variables que me parecen van a arrojar mejores\n",
    "# resultados:\n",
    "\n",
    "(x_train,x_test,y_train,y_test) = train_test_split(x,y,test_size=0.2)\n",
    "print(x_train.shape)\n",
    "print(x_test.shape)\n",
    "print(y_train.shape)\n",
    "print(y_test.shape)"
   ]
  },
  {
   "cell_type": "code",
   "execution_count": 48,
   "id": "95db6bdb",
   "metadata": {},
   "outputs": [],
   "source": [
    "# Por ultimo, voy a estandarizar los datos. Esto lo hago para que variables con valores mas altos no ganen mas peso\n",
    "# cuando el algoritmo va a realizar la clasificación. Este paso se realiza luego de separar los datos para no \n",
    "# estandarizar la variable dependiente:\n",
    "\n",
    "Standard = StandardScaler()\n",
    "x_train_Std = Standard.fit_transform(x_train)\n",
    "x_test_Std = Standard.transform(x_test)"
   ]
  },
  {
   "cell_type": "markdown",
   "id": "171ea7c4",
   "metadata": {},
   "source": [
    "# Entrenando al algoritmo de clasificación:"
   ]
  },
  {
   "cell_type": "markdown",
   "id": "8d01ad86",
   "metadata": {},
   "source": [
    "## Vecinos cercanos:"
   ]
  },
  {
   "cell_type": "code",
   "execution_count": 49,
   "id": "0c0e2a78",
   "metadata": {},
   "outputs": [
    {
     "data": {
      "text/plain": [
       "KNeighborsClassifier()"
      ]
     },
     "execution_count": 49,
     "metadata": {},
     "output_type": "execute_result"
    }
   ],
   "source": [
    "KNN = KNeighborsClassifier(n_neighbors = 5, metric = 'minkowski', p = 2)\n",
    "KNN.fit(x_train_Std, y_train)"
   ]
  },
  {
   "cell_type": "code",
   "execution_count": 50,
   "id": "a1a3a8e5",
   "metadata": {},
   "outputs": [
    {
     "data": {
      "text/plain": [
       "0.8919546906767354"
      ]
     },
     "execution_count": 50,
     "metadata": {},
     "output_type": "execute_result"
    }
   ],
   "source": [
    "prediccionKNN = KNN.predict(x_test_Std)\n",
    "KNN.score(x_test_Std,y_test)"
   ]
  },
  {
   "cell_type": "code",
   "execution_count": 51,
   "id": "7a24569c",
   "metadata": {},
   "outputs": [
    {
     "data": {
      "text/html": [
       "<div>\n",
       "<style scoped>\n",
       "    .dataframe tbody tr th:only-of-type {\n",
       "        vertical-align: middle;\n",
       "    }\n",
       "\n",
       "    .dataframe tbody tr th {\n",
       "        vertical-align: top;\n",
       "    }\n",
       "\n",
       "    .dataframe thead th {\n",
       "        text-align: right;\n",
       "    }\n",
       "</style>\n",
       "<table border=\"1\" class=\"dataframe\">\n",
       "  <thead>\n",
       "    <tr style=\"text-align: right;\">\n",
       "      <th></th>\n",
       "      <th>Predecido N</th>\n",
       "      <th>Predecido P</th>\n",
       "      <th>%</th>\n",
       "    </tr>\n",
       "  </thead>\n",
       "  <tbody>\n",
       "    <tr>\n",
       "      <th>Realidad N</th>\n",
       "      <td>5969</td>\n",
       "      <td>101</td>\n",
       "      <td>98.336079</td>\n",
       "    </tr>\n",
       "    <tr>\n",
       "      <th>Realidad P</th>\n",
       "      <td>643</td>\n",
       "      <td>173</td>\n",
       "      <td>21.200980</td>\n",
       "    </tr>\n",
       "  </tbody>\n",
       "</table>\n",
       "</div>"
      ],
      "text/plain": [
       "            Predecido N  Predecido P          %\n",
       "Realidad N         5969          101  98.336079\n",
       "Realidad P          643          173  21.200980"
      ]
     },
     "execution_count": 51,
     "metadata": {},
     "output_type": "execute_result"
    }
   ],
   "source": [
    "# Matriz de confusión:\n",
    "\n",
    "confusionKNN = metrics.confusion_matrix(y_test, prediccionKNN)\n",
    "pd.DataFrame({'Predecido N': [confusionKNN[0,0], confusionKNN[1,0]], \n",
    "              'Predecido P': [confusionKNN[0,1], confusionKNN[1,1]],\n",
    "              '%': [confusionKNN[0,0]*100/(confusionKNN[0,0]+confusionKNN[0,1]), \\\n",
    "                    confusionKNN[1,1]*100/(confusionKNN[1,0]+confusionKNN[1,1])]},\n",
    "             index=['Realidad N', 'Realidad P'])"
   ]
  },
  {
   "cell_type": "markdown",
   "id": "81f44e1c",
   "metadata": {},
   "source": [
    "## Arbol de decisiones:"
   ]
  },
  {
   "cell_type": "code",
   "execution_count": 52,
   "id": "82d68d9a",
   "metadata": {},
   "outputs": [
    {
     "data": {
      "text/plain": [
       "DecisionTreeClassifier()"
      ]
     },
     "execution_count": 52,
     "metadata": {},
     "output_type": "execute_result"
    }
   ],
   "source": [
    "ArbolDD = DecisionTreeClassifier()\n",
    "ArbolDD.fit(x_train_Std, y_train)"
   ]
  },
  {
   "cell_type": "code",
   "execution_count": 53,
   "id": "d936d7da",
   "metadata": {},
   "outputs": [
    {
     "data": {
      "text/plain": [
       "0.8983444670345628"
      ]
     },
     "execution_count": 53,
     "metadata": {},
     "output_type": "execute_result"
    }
   ],
   "source": [
    "prediccionADD = ArbolDD.predict(x_test_Std)\n",
    "ArbolDD.score(x_test_Std, y_test)"
   ]
  },
  {
   "cell_type": "code",
   "execution_count": 54,
   "id": "ce6e2a82",
   "metadata": {},
   "outputs": [
    {
     "data": {
      "text/html": [
       "<div>\n",
       "<style scoped>\n",
       "    .dataframe tbody tr th:only-of-type {\n",
       "        vertical-align: middle;\n",
       "    }\n",
       "\n",
       "    .dataframe tbody tr th {\n",
       "        vertical-align: top;\n",
       "    }\n",
       "\n",
       "    .dataframe thead th {\n",
       "        text-align: right;\n",
       "    }\n",
       "</style>\n",
       "<table border=\"1\" class=\"dataframe\">\n",
       "  <thead>\n",
       "    <tr style=\"text-align: right;\">\n",
       "      <th></th>\n",
       "      <th>Predecido N</th>\n",
       "      <th>Predecido P</th>\n",
       "      <th>%</th>\n",
       "    </tr>\n",
       "  </thead>\n",
       "  <tbody>\n",
       "    <tr>\n",
       "      <th>Realidad N</th>\n",
       "      <td>5955</td>\n",
       "      <td>115</td>\n",
       "      <td>98.105437</td>\n",
       "    </tr>\n",
       "    <tr>\n",
       "      <th>Realidad P</th>\n",
       "      <td>585</td>\n",
       "      <td>231</td>\n",
       "      <td>28.308824</td>\n",
       "    </tr>\n",
       "  </tbody>\n",
       "</table>\n",
       "</div>"
      ],
      "text/plain": [
       "            Predecido N  Predecido P          %\n",
       "Realidad N         5955          115  98.105437\n",
       "Realidad P          585          231  28.308824"
      ]
     },
     "execution_count": 54,
     "metadata": {},
     "output_type": "execute_result"
    }
   ],
   "source": [
    "# Matriz de confusión:\n",
    "\n",
    "confusionADD = metrics.confusion_matrix(y_test, prediccionADD)\n",
    "pd.DataFrame({'Predecido N': [confusionADD[0,0], confusionADD[1,0]], \n",
    "              'Predecido P': [confusionADD[0,1], confusionADD[1,1]],\n",
    "              '%': [confusionADD[0,0]*100/(confusionADD[0,0]+confusionADD[0,1]), \\\n",
    "                    confusionADD[1,1]*100/(confusionADD[1,0]+confusionADD[1,1])]},\n",
    "             index=['Realidad N', 'Realidad P'])"
   ]
  },
  {
   "cell_type": "markdown",
   "id": "fde1e9b1",
   "metadata": {},
   "source": [
    "## Bayes ingenuo:"
   ]
  },
  {
   "cell_type": "code",
   "execution_count": 55,
   "id": "2b085635",
   "metadata": {},
   "outputs": [
    {
     "data": {
      "text/plain": [
       "GaussianNB()"
      ]
     },
     "execution_count": 55,
     "metadata": {},
     "output_type": "execute_result"
    }
   ],
   "source": [
    "Bayes = GaussianNB()\n",
    "Bayes.fit(x_train_Std, y_train)"
   ]
  },
  {
   "cell_type": "code",
   "execution_count": 56,
   "id": "d76ef00e",
   "metadata": {},
   "outputs": [
    {
     "data": {
      "text/plain": [
       "0.8409817020040662"
      ]
     },
     "execution_count": 56,
     "metadata": {},
     "output_type": "execute_result"
    }
   ],
   "source": [
    "prediccionBayes = Bayes.predict(x_test_Std)\n",
    "Bayes.score(x_test_Std,y_test)"
   ]
  },
  {
   "cell_type": "code",
   "execution_count": 57,
   "id": "af1bb79d",
   "metadata": {},
   "outputs": [
    {
     "data": {
      "text/html": [
       "<div>\n",
       "<style scoped>\n",
       "    .dataframe tbody tr th:only-of-type {\n",
       "        vertical-align: middle;\n",
       "    }\n",
       "\n",
       "    .dataframe tbody tr th {\n",
       "        vertical-align: top;\n",
       "    }\n",
       "\n",
       "    .dataframe thead th {\n",
       "        text-align: right;\n",
       "    }\n",
       "</style>\n",
       "<table border=\"1\" class=\"dataframe\">\n",
       "  <thead>\n",
       "    <tr style=\"text-align: right;\">\n",
       "      <th></th>\n",
       "      <th>Predecido N</th>\n",
       "      <th>Predecido P</th>\n",
       "      <th>%</th>\n",
       "    </tr>\n",
       "  </thead>\n",
       "  <tbody>\n",
       "    <tr>\n",
       "      <th>Realidad N</th>\n",
       "      <td>5479</td>\n",
       "      <td>591</td>\n",
       "      <td>90.263591</td>\n",
       "    </tr>\n",
       "    <tr>\n",
       "      <th>Realidad P</th>\n",
       "      <td>504</td>\n",
       "      <td>312</td>\n",
       "      <td>38.235294</td>\n",
       "    </tr>\n",
       "  </tbody>\n",
       "</table>\n",
       "</div>"
      ],
      "text/plain": [
       "            Predecido N  Predecido P          %\n",
       "Realidad N         5479          591  90.263591\n",
       "Realidad P          504          312  38.235294"
      ]
     },
     "execution_count": 57,
     "metadata": {},
     "output_type": "execute_result"
    }
   ],
   "source": [
    "# Matriz de confusión:\n",
    "\n",
    "confusionB = metrics.confusion_matrix(y_test, prediccionBayes)\n",
    "pd.DataFrame({'Predecido N': [confusionB[0,0], confusionB[1,0]], \n",
    "              'Predecido P': [confusionB[0,1], confusionB[1,1]],\n",
    "              '%': [confusionB[0,0]*100/(confusionB[0,0]+confusionB[0,1]), \\\n",
    "                    confusionB[1,1]*100/(confusionB[1,0]+confusionB[1,1])]},\n",
    "             index=['Realidad N', 'Realidad P'])"
   ]
  },
  {
   "cell_type": "markdown",
   "id": "cd64517d",
   "metadata": {},
   "source": [
    "## Random Forest"
   ]
  },
  {
   "cell_type": "code",
   "execution_count": 58,
   "id": "10ed1fe7",
   "metadata": {},
   "outputs": [
    {
     "data": {
      "text/plain": [
       "RandomForestClassifier(criterion='entropy', n_estimators=10)"
      ]
     },
     "execution_count": 58,
     "metadata": {},
     "output_type": "execute_result"
    }
   ],
   "source": [
    "RandomF = RandomForestClassifier(n_estimators = 10, criterion = 'entropy')\n",
    "RandomF.fit(x_train_Std, y_train)"
   ]
  },
  {
   "cell_type": "code",
   "execution_count": 59,
   "id": "04441c56",
   "metadata": {},
   "outputs": [
    {
     "data": {
      "text/plain": [
       "0.897908800464711"
      ]
     },
     "execution_count": 59,
     "metadata": {},
     "output_type": "execute_result"
    }
   ],
   "source": [
    "prediccionRF = RandomF.predict(x_test_Std)\n",
    "RandomF.score(x_test_Std,y_test)"
   ]
  },
  {
   "cell_type": "code",
   "execution_count": 60,
   "id": "e37dc1f6",
   "metadata": {},
   "outputs": [
    {
     "data": {
      "text/html": [
       "<div>\n",
       "<style scoped>\n",
       "    .dataframe tbody tr th:only-of-type {\n",
       "        vertical-align: middle;\n",
       "    }\n",
       "\n",
       "    .dataframe tbody tr th {\n",
       "        vertical-align: top;\n",
       "    }\n",
       "\n",
       "    .dataframe thead th {\n",
       "        text-align: right;\n",
       "    }\n",
       "</style>\n",
       "<table border=\"1\" class=\"dataframe\">\n",
       "  <thead>\n",
       "    <tr style=\"text-align: right;\">\n",
       "      <th></th>\n",
       "      <th>Predecido N</th>\n",
       "      <th>Predecido P</th>\n",
       "      <th>%</th>\n",
       "    </tr>\n",
       "  </thead>\n",
       "  <tbody>\n",
       "    <tr>\n",
       "      <th>Realidad N</th>\n",
       "      <td>5949</td>\n",
       "      <td>121</td>\n",
       "      <td>98.006590</td>\n",
       "    </tr>\n",
       "    <tr>\n",
       "      <th>Realidad P</th>\n",
       "      <td>582</td>\n",
       "      <td>234</td>\n",
       "      <td>28.676471</td>\n",
       "    </tr>\n",
       "  </tbody>\n",
       "</table>\n",
       "</div>"
      ],
      "text/plain": [
       "            Predecido N  Predecido P          %\n",
       "Realidad N         5949          121  98.006590\n",
       "Realidad P          582          234  28.676471"
      ]
     },
     "execution_count": 60,
     "metadata": {},
     "output_type": "execute_result"
    }
   ],
   "source": [
    "#Matriz de confusión:\n",
    "\n",
    "confusionRF = metrics.confusion_matrix(y_test, prediccionRF)\n",
    "pd.DataFrame({'Predecido N': [confusionRF[0,0], confusionRF[1,0]], \n",
    "              'Predecido P': [confusionRF[0,1], confusionRF[1,1]],\n",
    "              '%': [confusionRF[0,0]*100/(confusionRF[0,0]+confusionRF[0,1]), \\\n",
    "                    confusionRF[1,1]*100/(confusionRF[1,0]+confusionRF[1,1])]},\n",
    "             index=['Realidad N', 'Realidad P'])"
   ]
  },
  {
   "cell_type": "markdown",
   "id": "0822bcac",
   "metadata": {},
   "source": [
    "## Regresión logistica:"
   ]
  },
  {
   "cell_type": "code",
   "execution_count": 61,
   "id": "ed59bc51",
   "metadata": {},
   "outputs": [
    {
     "data": {
      "text/plain": [
       "LogisticRegression()"
      ]
     },
     "execution_count": 61,
     "metadata": {},
     "output_type": "execute_result"
    }
   ],
   "source": [
    "RegresionLog=LogisticRegression()\n",
    "RegresionLog.fit(x_train_Std, y_train)"
   ]
  },
  {
   "cell_type": "code",
   "execution_count": 62,
   "id": "4db0f464",
   "metadata": {},
   "outputs": [
    {
     "data": {
      "text/plain": [
       "0.8973279117049086"
      ]
     },
     "execution_count": 62,
     "metadata": {},
     "output_type": "execute_result"
    }
   ],
   "source": [
    "prediccionRegLog = RegresionLog.predict(x_test_Std)\n",
    "RegresionLog.score(x_test_Std,y_test)"
   ]
  },
  {
   "cell_type": "code",
   "execution_count": 63,
   "id": "2b4d9bac",
   "metadata": {},
   "outputs": [
    {
     "data": {
      "text/html": [
       "<div>\n",
       "<style scoped>\n",
       "    .dataframe tbody tr th:only-of-type {\n",
       "        vertical-align: middle;\n",
       "    }\n",
       "\n",
       "    .dataframe tbody tr th {\n",
       "        vertical-align: top;\n",
       "    }\n",
       "\n",
       "    .dataframe thead th {\n",
       "        text-align: right;\n",
       "    }\n",
       "</style>\n",
       "<table border=\"1\" class=\"dataframe\">\n",
       "  <thead>\n",
       "    <tr style=\"text-align: right;\">\n",
       "      <th></th>\n",
       "      <th>Predecido N</th>\n",
       "      <th>Predecido P</th>\n",
       "      <th>%</th>\n",
       "    </tr>\n",
       "  </thead>\n",
       "  <tbody>\n",
       "    <tr>\n",
       "      <th>Realidad N</th>\n",
       "      <td>6006</td>\n",
       "      <td>64</td>\n",
       "      <td>98.945634</td>\n",
       "    </tr>\n",
       "    <tr>\n",
       "      <th>Realidad P</th>\n",
       "      <td>643</td>\n",
       "      <td>173</td>\n",
       "      <td>21.200980</td>\n",
       "    </tr>\n",
       "  </tbody>\n",
       "</table>\n",
       "</div>"
      ],
      "text/plain": [
       "            Predecido N  Predecido P          %\n",
       "Realidad N         6006           64  98.945634\n",
       "Realidad P          643          173  21.200980"
      ]
     },
     "execution_count": 63,
     "metadata": {},
     "output_type": "execute_result"
    }
   ],
   "source": [
    "#Matriz de confusión:\n",
    "\n",
    "confusionRegLog = metrics.confusion_matrix(y_test, prediccionRegLog)\n",
    "pd.DataFrame({'Predecido N': [confusionRegLog[0,0], confusionRegLog[1,0]], \n",
    "              'Predecido P': [confusionRegLog[0,1], confusionRegLog[1,1]],\n",
    "              '%': [confusionRegLog[0,0]*100/(confusionRegLog[0,0]+confusionRegLog[0,1]), \\\n",
    "                    confusionRegLog[1,1]*100/(confusionRegLog[1,0]+confusionRegLog[1,1])]},\n",
    "             index=['Realidad N', 'Realidad P'])"
   ]
  },
  {
   "cell_type": "markdown",
   "id": "6dd2d379",
   "metadata": {},
   "source": [
    "## Grafico ROC:"
   ]
  },
  {
   "cell_type": "code",
   "execution_count": 64,
   "id": "88bfb1b3",
   "metadata": {},
   "outputs": [
    {
     "data": {
      "image/png": "[encoded data removed]",
      "text/plain": [
       "<Figure size 500x500 with 1 Axes>"
      ]
     },
     "metadata": {
      "needs_background": "light"
     },
     "output_type": "display_data"
    }
   ],
   "source": [
    "fpr,tpr,threshold =roc_curve(y_test,prediccionBayes)\n",
    "auc = auc(fpr,tpr)\n",
    "plt.figure(figsize=(5,5),dpi=100)\n",
    "plt.plot(fpr,tpr,linestyle='-',label = \"(auc = %0.3f)\" % auc)\n",
    "plt.xlabel('False Positive Rate')\n",
    "plt.ylabel('True Positive Rate')\n",
    "plt.legend()\n",
    "plt.show()"
   ]
  },
  {
   "cell_type": "markdown",
   "id": "92ad57ab",
   "metadata": {},
   "source": [
    "# Conclusiones:"
   ]
  },
  {
   "cell_type": "markdown",
   "id": "f0ddb005",
   "metadata": {},
   "source": [
    "De los 5 modelos utilizados para realizar la clasificación (vecinos cercanos, árbol de decisiones, Bayes ingenuo, random forest y regresión logística) árbol de decisiones fue el que arrojo un mejor score, dando 98,1% de predicciones acertadas en datos negativos y un 28,3% en casos positivos.\n",
    "Sin embargo, Si se busca maximizar la cantidad de casos positivos predichos correctamente (restándole importancia a predecir erróneamente casos negativos), se tendría que usare Bayes ingenuo, ya que logra el mayor % de valores positivos predichos correctamente, 38,2%. \n",
    "Desde el punto de vista del negocio, este último enfoque podría tener mas sentido ya que se estarían generando mayor cantidad de préstamos. posiblemente el esfuerzo extra resultante de realizar llamadas pensando que van a ser positivas cuando en realidad son negativas no supere la ganancia de captar más clientes.\n",
    "También es destacable que en general, ningún modelo arrojo valores elevados de predicción de casos positivos. Este es definitivamente un punto de mejora del análisis (al final del documento describo una serie de pasos que haría para mejorarlo).\n"
   ]
  },
  {
   "cell_type": "markdown",
   "id": "fdb33cff",
   "metadata": {},
   "source": [
    "# Como mejoraria el analisis si tuviera un poco mas de tiempo:\n",
    "\n",
    "Mejoraria la transformacion de datos categoricos en numericos. Una desventaja del label encoder es que asigna numeros\n",
    "sin asignar una importancia a cada label en particular. Este tipo de datos puede ser mal interpretado por el algoritmo\n",
    "ya que proporciona mas peso a ciertos valores categoricos por sobre otros sin una verdadera razon detras.\n",
    "\n",
    "Analizaria un poco mas a fondo en que casos el Dataset presenta valores unknown. Podria proporcionar valor entender mejor\n",
    "si hay alguna razon particular o razonamiento detras de la asignacion de este valor. Por ejemplo, en 'gender', un unknown\n",
    "podria representar personas que no se identifican con masculino ni con femenino y no simplemente un valor no completado por error. Podria resultar interesante analizar como se relaciona esta asignación con otras variables y con la probabilidad de que acepte o no el deposito.\n",
    "\n",
    "Experimentaria un poco mas con que datos elimino por outliers. Especificamente, que percentiles puedo dejar adentro \n",
    "y cuales afuera del analisis.\n",
    "\n",
    "Pdays tiene valores 999 que representan que no hubo contacto previo en otra campaña con el cliente. Evaluar si tener tantos casos en los que no hubo contacto podria estar afectando la tasa de aceptación del deposito.\n",
    "\n",
    "Probaria cambiar las variables con las que estoy armando los modelos. Principalmente intentaria remover la que menor correlacion tenga para ver si puedo mejorar la predicción."
   ]
  },
  {
   "cell_type": "markdown",
   "id": "754929a9",
   "metadata": {},
   "source": [
    "## Cosas que googlie:\n",
    "\n",
    "- Código para hacer label encoding. pensé en hacerlo reemplazando manualmente cada valor categórico por uno numérico asignado por mí, pero sabía que hay métodos que lo hacen directamente y este ejercicio fue una buena excusa para buscarlo.\n",
    "\n",
    "- Definiciones de cons.price.idx, cons.conf.idx y euribor3m.\n",
    "\n",
    "- Tenía una noción de como eliminar los outliers pero me asegure de hacerlo bien buscando que método puede ser más sencillo. Estaba en lo cierto buscando fijar el percentil limite que quiero establecer y redefiniendo el data frame para que deje fuera todo lo que no este dentro del límite establecido.\n",
    "\n",
    "- Código para generar matriz de confusión y el gráfico ROC. Entiendo los conceptos de ambos y podría hacerlo manualmente, pero igual que con label encoding, fue una buena excusa para buscar métodos que simplificaran el código.\n",
    "\n",
    "- A los modelos de clasificación ya los conocía, pero googlear como es exactamente el código fue útil para confirmarlo."
   ]
  },
  {
   "cell_type": "code",
   "execution_count": null,
   "id": "df42dbf4",
   "metadata": {},
   "outputs": [],
   "source": []
  }
 ],
 "metadata": {
  "kernelspec": {
   "display_name": "Python 3",
   "language": "python",
   "name": "python3"
  },
  "language_info": {
   "codemirror_mode": {
    "name": "ipython",
    "version": 3
   },
   "file_extension": ".py",
   "mimetype": "text/x-python",
   "name": "python",
   "nbconvert_exporter": "python",
   "pygments_lexer": "ipython3",
   "version": "3.8.8"
  }
 },
 "nbformat": 4,
 "nbformat_minor": 5
}
